{
 "cells": [
  {
   "cell_type": "code",
   "execution_count": 2,
   "id": "076ccda2",
   "metadata": {},
   "outputs": [],
   "source": [
    "# Extract and transform MIT-BIH dataset from Zip file\n",
    "!python3 extract-data.py\n",
    "!python3 transform-data.py"
   ]
  },
  {
   "cell_type": "code",
   "execution_count": 3,
   "id": "988520b2",
   "metadata": {
    "gradient": {
     "editing": false,
     "execution_count": 3,
     "id": "95bf22c5",
     "kernelId": "cbf3c3c5-e3da-4b9b-b666-9f8d8eddbd04"
    }
   },
   "outputs": [
    {
     "name": "stdout",
     "output_type": "stream",
     "text": [
      "Enabling notebook extension jupyter-js-widgets/extension...\r\n",
      "      - Validating: \u001b[32mOK\u001b[0m\r\n"
     ]
    }
   ],
   "source": [
    "import torch\n",
    "from torch.utils import data\n",
    "from torch.utils.data import DataLoader, Dataset\n",
    "import torch.optim as optim\n",
    "import torch.nn as nn\n",
    "import matplotlib.pyplot as plt\n",
    "import numpy as np\n",
    "import torch.nn as nn\n",
    "import torch.nn.functional as F\n",
    "import torchvision.models as models\n",
    "from sklearn.metrics import f1_score, precision_score, recall_score\n",
    "!jupyter nbextension enable --py widgetsnbextension\n",
    "%matplotlib inline"
   ]
  },
  {
   "cell_type": "code",
   "execution_count": 4,
   "id": "92db7c01",
   "metadata": {
    "gradient": {
     "editing": false,
     "execution_count": 4,
     "id": "f5a534e2",
     "kernelId": "cbf3c3c5-e3da-4b9b-b666-9f8d8eddbd04"
    }
   },
   "outputs": [
    {
     "name": "stdout",
     "output_type": "stream",
     "text": [
      "No GPU\n"
     ]
    }
   ],
   "source": [
    "# Switch to GPU\n",
    "device = torch.device(\"cuda:0\" if torch.cuda.is_available() else \"cpu\")\n",
    "torch.autograd.set_detect_anomaly(True)\n",
    "if torch.cuda.is_available():\n",
    "    print(\"Using the GPU!\")\n",
    "else:\n",
    "    print(\"No GPU\")"
   ]
  },
  {
   "cell_type": "code",
   "execution_count": 7,
   "id": "f0b03c5a",
   "metadata": {
    "gradient": {
     "editing": false,
     "execution_count": 5,
     "id": "3c7597db",
     "kernelId": "cbf3c3c5-e3da-4b9b-b666-9f8d8eddbd04"
    }
   },
   "outputs": [],
   "source": [
    "# Dataloader classes\n",
    "class EcgDataset(Dataset):\n",
    "    def __init__(self, source):\n",
    "        super().__init__()\n",
    "\n",
    "        # Load training data\n",
    "        self.train_x = torch.from_numpy(np.load(f\"data/{source}_x.npy\")).float()\n",
    "        self.train_y = torch.from_numpy(np.load(f\"data/{source}_y.npy\")).float()\n",
    "\n",
    "    def __getitem__(self, index):\n",
    "        return self.train_x[index], self.train_y[index]\n",
    "\n",
    "    def __len__(self):\n",
    "        return self.train_y.shape[0]"
   ]
  },
  {
   "cell_type": "code",
   "execution_count": 12,
   "id": "10f231b2",
   "metadata": {
    "gradient": {
     "editing": false,
     "execution_count": 6,
     "id": "80a6415a",
     "kernelId": "cbf3c3c5-e3da-4b9b-b666-9f8d8eddbd04"
    }
   },
   "outputs": [],
   "source": [
    "# Create dataloaders\n",
    "train_dataloader = DataLoader(\n",
    "    dataset=EcgDataset(\"train\"), batch_size=32, shuffle=True, num_workers=0, drop_last=True\n",
    ")\n",
    "test_dataloader = DataLoader(\n",
    "    dataset=EcgDataset(\"test\"), batch_size=32, shuffle=True, num_workers=0\n",
    ")\n",
    "test_dataloader_display = DataLoader(\n",
    "    dataset=EcgDataset(\"test\"), batch_size=1, shuffle=False, num_workers=0\n",
    ")"
   ]
  },
  {
   "cell_type": "code",
   "execution_count": 13,
   "id": "bed82fd0",
   "metadata": {
    "gradient": {
     "editing": false,
     "execution_count": 7,
     "id": "69b9e349",
     "kernelId": "cbf3c3c5-e3da-4b9b-b666-9f8d8eddbd04"
    }
   },
   "outputs": [
    {
     "data": {
      "text/plain": [
       "[<matplotlib.lines.Line2D at 0x14165e850>]"
      ]
     },
     "execution_count": 13,
     "metadata": {},
     "output_type": "execute_result"
    },
    {
     "data": {
      "image/png": "[encoded data removed]",
      "text/plain": [
       "<Figure size 432x288 with 1 Axes>"
      ]
     },
     "metadata": {
      "needs_background": "light"
     },
     "output_type": "display_data"
    }
   ],
   "source": [
    "# Show graph of data to prove dataloaders are working\n",
    "x, y = iter(test_dataloader_display).next()\n",
    "plt.xlabel('Time')\n",
    "plt.ylabel('Normalized Electrical Activity')\n",
    "plt.plot(x[0])"
   ]
  },
  {
   "cell_type": "code",
   "execution_count": 14,
   "id": "80ed95f4",
   "metadata": {
    "gradient": {
     "editing": false,
     "execution_count": 17,
     "id": "8ce33609",
     "kernelId": "cbf3c3c5-e3da-4b9b-b666-9f8d8eddbd04"
    }
   },
   "outputs": [],
   "source": [
    "# LSTM block to be used inside other models\n",
    "class LSTMModel(nn.Module):\n",
    "    def __init__(self, input_dim, hidden_dim, num_layers, dropout_prob):\n",
    "        super(LSTMModel, self).__init__()\n",
    "\n",
    "        # Defining the number of layers and the nodes in each layer\n",
    "        self.hidden_dim = hidden_dim\n",
    "        self.num_layers = num_layers\n",
    "        self.lstm = nn.LSTM(\n",
    "            input_dim, hidden_dim, num_layers, batch_first=True, bidirectional=True, dropout=dropout_prob\n",
    "        )\n",
    "\n",
    "    def forward(self, x):\n",
    "        h0 = torch.zeros(self.num_layers*2, x.size(0), self.hidden_dim).to(device)\n",
    "        c0 = torch.zeros(self.num_layers*2, x.size(0), self.hidden_dim).to(device)\n",
    "        out, (hn, cn) = self.lstm(x, (h0.detach(), c0.detach()))\n",
    "\n",
    "        return out"
   ]
  },
  {
   "cell_type": "code",
   "execution_count": 15,
   "id": "0a75ea71",
   "metadata": {
    "gradient": {
     "editing": false,
     "execution_count": 48,
     "id": "07acd067",
     "kernelId": "cbf3c3c5-e3da-4b9b-b666-9f8d8eddbd04"
    }
   },
   "outputs": [],
   "source": [
    "# Simple fully connected model to test accuracy against\n",
    "class SimpleFullyConnected(nn.Module):\n",
    "    def __init__(self):\n",
    "        super(SimpleFullyConnected, self).__init__()\n",
    "        self.fc = nn.Sequential(\n",
    "            nn.Linear(187, 1000),\n",
    "            nn.ReLU(),\n",
    "            nn.BatchNorm1d(1000),\n",
    "            nn.Linear(1000, 1000),\n",
    "            nn.ReLU(),\n",
    "            nn.BatchNorm1d(1000),\n",
    "            nn.Linear(1000, 5),\n",
    "            nn.Softmax(-1)\n",
    "        )\n",
    "        \n",
    "    def forward(self, x):\n",
    "        batch_size = x.shape[0]\n",
    "        x = x.reshape(batch_size, -1)\n",
    "\n",
    "        return self.fc(x)"
   ]
  },
  {
   "cell_type": "code",
   "execution_count": 16,
   "id": "e57ab1ba",
   "metadata": {
    "gradient": {
     "editing": false,
     "execution_count": 49,
     "id": "cb20f151",
     "kernelId": "cbf3c3c5-e3da-4b9b-b666-9f8d8eddbd04"
    }
   },
   "outputs": [],
   "source": [
    "# Slightly more complex model to test accuracy against\n",
    "class ConvolutionalBLSTM(nn.Module):\n",
    "    def __init__(self):\n",
    "        super(ConvolutionalBLSTM, self).__init__()\n",
    "        # LSTM\n",
    "        self.c1L = nn.Sequential(\n",
    "            nn.Conv1d(1, 32, 16, stride=1, padding=0), # BxCxL -> Bx32x172\n",
    "            nn.BatchNorm1d(32),\n",
    "            nn.ReLU()\n",
    "        )\n",
    "        self.L = LSTMModel(32, 172, 1, 0.0) #BxLxC\n",
    "        self.fcL = nn.Sequential(\n",
    "            nn.Linear(344*172, 5),\n",
    "            nn.Softmax(-1)\n",
    "        )\n",
    "        \n",
    "    def forward(self, x):\n",
    "        batch_size = x.shape[0]\n",
    "        x = x.reshape(batch_size, 1, -1)\n",
    "        \n",
    "        # First conv LSTM\n",
    "        outL = self.c1L(x)\n",
    "        outL = self.L(outL.reshape(batch_size, outL.size(2), -1))\n",
    "        outL = self.fcL(outL.reshape(batch_size, -1))\n",
    "\n",
    "        return outL"
   ]
  },
  {
   "cell_type": "code",
   "execution_count": 17,
   "id": "64a8f87d",
   "metadata": {
    "gradient": {
     "editing": false,
     "execution_count": 50,
     "id": "8866f8a5",
     "kernelId": "cbf3c3c5-e3da-4b9b-b666-9f8d8eddbd04"
    }
   },
   "outputs": [],
   "source": [
    "# HADLN model\n",
    "class HADLN(nn.Module):\n",
    "    def BasicBlock(self, in_channels=32, out_channels=32, kernel_size=17, stride=1, padding=8):\n",
    "        return nn.Sequential(\n",
    "            nn.BatchNorm1d(in_channels),\n",
    "            nn.ReLU(),\n",
    "            nn.Conv1d(in_channels, out_channels, kernel_size, stride=stride, padding=padding),\n",
    "            nn.BatchNorm1d(out_channels),\n",
    "            nn.ReLU(),\n",
    "            nn.Dropout(0.3),\n",
    "            nn.Conv1d(out_channels, out_channels, kernel_size, stride=1, padding=padding)\n",
    "        )\n",
    "    \n",
    "    def ShortcutBlock(self, in_channels=32, out_channels=64):\n",
    "        return nn.Sequential(\n",
    "            nn.Conv1d(in_channels, out_channels, 1, stride=2, padding=0),\n",
    "            nn.BatchNorm1d(out_channels)\n",
    "        )\n",
    "    \n",
    "    def __init__(self):\n",
    "        super(HADLN, self).__init__()\n",
    "        # LSTM\n",
    "        self.c1L = nn.Sequential(\n",
    "            nn.Conv1d(1, 32, 16, stride=1, padding=0), # BxCxL -> Bx32x172\n",
    "            nn.BatchNorm1d(32),\n",
    "            nn.ReLU()\n",
    "        )\n",
    "        self.L = LSTMModel(32, 172, 1, 0.0) #BxLxC\n",
    "        self.fcL = nn.Linear(344*172, 256*18)\n",
    "        \n",
    "        # ResNet Precursors\n",
    "        self.c1RP = nn.Sequential(\n",
    "            nn.Conv1d(1, 32, 16, stride=1, padding=0),\n",
    "            nn.BatchNorm1d(32),\n",
    "            nn.ReLU()\n",
    "        )\n",
    "        \n",
    "        self.c2RP = nn.Sequential(\n",
    "            nn.Conv1d(32, 32, 16, stride=1, padding=0),\n",
    "            nn.BatchNorm1d(32),\n",
    "            nn.ReLU(),\n",
    "            nn.Dropout(0.3),\n",
    "            nn.Conv1d(32, 32, 16, stride=1, padding=0)\n",
    "        )\n",
    "        \n",
    "        # ResNet\n",
    "        self.rb1 = self.BasicBlock()\n",
    "        self.rb2 = self.BasicBlock()\n",
    "        self.rb3 = self.BasicBlock()\n",
    "        self.rb4 = self.BasicBlock()\n",
    "        self.sc1 = self.ShortcutBlock()\n",
    "        \n",
    "        self.rb5 = self.BasicBlock(in_channels=32, out_channels=64, stride=2)\n",
    "        self.rb6 = self.BasicBlock(in_channels=64, out_channels=64)\n",
    "        self.rb7 = self.BasicBlock(in_channels=64, out_channels=64)\n",
    "        self.rb8 = self.BasicBlock(in_channels=64, out_channels=64)\n",
    "        self.sc2 = self.ShortcutBlock(in_channels=64, out_channels=128)\n",
    "        \n",
    "        self.rb9 = self.BasicBlock(in_channels=64, out_channels=128, stride=2)\n",
    "        self.rb10 = self.BasicBlock(in_channels=128, out_channels=128)\n",
    "        self.rb11 = self.BasicBlock(in_channels=128, out_channels=128)\n",
    "        self.rb12 = self.BasicBlock(in_channels=128, out_channels=128)\n",
    "        self.sc3 = self.ShortcutBlock(in_channels=128, out_channels=256)\n",
    "        \n",
    "        self.rb13 = self.BasicBlock(in_channels=128, out_channels=256, stride=2)\n",
    "        self.rb14 = self.BasicBlock(in_channels=256, out_channels=256)\n",
    "        self.rb15 = self.BasicBlock(in_channels=256, out_channels=256)\n",
    "        self.rb16 = self.BasicBlock(in_channels=256, out_channels=256)\n",
    "        \n",
    "        # ResNet Fc\n",
    "        self.fcR = nn.Linear(256*18, 256*18)\n",
    "        \n",
    "        # Merge LSTM and ResNet, this is attention as well\n",
    "        self.merge = nn.Sequential(\n",
    "            nn.Tanh(),\n",
    "            nn.Linear(256*18, 256*18),\n",
    "            nn.Softmax(-1)\n",
    "        )\n",
    "        \n",
    "        # Output - time distribute\n",
    "        self.classifier = nn.Sequential(\n",
    "            nn.BatchNorm1d(4608),\n",
    "            nn.ReLU(),\n",
    "            nn.Linear(256*18, 5),\n",
    "            nn.Softmax(-1)\n",
    "        )\n",
    "        \n",
    "\n",
    "    def forward(self, x):\n",
    "        batch_size = x.shape[0]\n",
    "        x = x.reshape(batch_size, 1, -1)\n",
    "        \n",
    "        # First conv LSTM\n",
    "        outL = self.c1L(x)\n",
    "        outL = self.L(outL.reshape(batch_size, outL.size(2), -1))\n",
    "        outL = self.fcL(outL.reshape(batch_size, -1))\n",
    "        \n",
    "        # ResNet precursors\n",
    "        outR = self.c1RP(x)\n",
    "        outR = self.c2RP(outR)\n",
    "        \n",
    "        # ResNet\n",
    "        \n",
    "        # 32 features\n",
    "        outR = self.rb1(outR)\n",
    "        outR = self.rb2(outR) + outR\n",
    "        outR = self.rb3(outR) + outR\n",
    "        outR = self.rb4(outR) + outR\n",
    "        sc = self.sc1(outR)\n",
    "        \n",
    "        # 64 Features\n",
    "        outR = self.rb5(outR) + sc\n",
    "        outR = self.rb6(outR) + outR\n",
    "        outR = self.rb7(outR) + outR\n",
    "        outR = self.rb8(outR) + outR\n",
    "        sc = self.sc2(outR)\n",
    "        \n",
    "        # 128 Features\n",
    "        outR = self.rb9(outR) + sc\n",
    "        outR = self.rb10(outR) + outR\n",
    "        outR = self.rb11(outR) + outR\n",
    "        outR = self.rb12(outR) + outR\n",
    "        sc = self.sc3(outR)\n",
    "        \n",
    "        # 256 Features\n",
    "        outR = self.rb13(outR) + sc\n",
    "        outR = self.rb14(outR) + outR\n",
    "        outR = self.rb15(outR) + outR\n",
    "        outR = (self.rb16(outR) + outR).reshape(batch_size, -1)\n",
    "        rnFeatures = outR\n",
    "\n",
    "        # ResNet FC\n",
    "        outR = self.fcR(outR)\n",
    "        \n",
    "        # Merge\n",
    "        merge = self.merge(outL + outR)\n",
    "        \n",
    "        # Multiply by ResNet output\n",
    "        merge = merge * rnFeatures\n",
    "        \n",
    "        # Classifier\n",
    "        classifier = self.classifier(merge)\n",
    "\n",
    "        return classifier"
   ]
  },
  {
   "cell_type": "code",
   "execution_count": 18,
   "id": "cab686a5",
   "metadata": {
    "gradient": {
     "execution_count": 51,
     "id": "8243d752",
     "kernelId": "cbf3c3c5-e3da-4b9b-b666-9f8d8eddbd04"
    }
   },
   "outputs": [],
   "source": [
    "# Focal loss for handling extremely unbalanced datasets\n",
    "# Taken from:\n",
    "# https://github.com/gokulprasadthekkel/pytorch-multi-class-focal-loss/blob/master/focal_loss.py\n",
    "class FocalLoss(nn.modules.loss._WeightedLoss):\n",
    "    def __init__(self, weight=None, gamma=2,reduction='mean'):\n",
    "        super(FocalLoss, self).__init__(weight,reduction=reduction)\n",
    "        self.gamma = gamma\n",
    "        self.weight = weight #weight parameter will act as the alpha parameter to balance class weights\n",
    "\n",
    "    def forward(self, input, target):\n",
    "\n",
    "        ce_loss = F.cross_entropy(input, target,reduction=self.reduction,weight=self.weight)\n",
    "        pt = torch.exp(-ce_loss)\n",
    "        focal_loss = ((1 - pt) ** self.gamma * ce_loss).mean()\n",
    "        return focal_loss"
   ]
  },
  {
   "cell_type": "code",
   "execution_count": 19,
   "id": "d2362e29",
   "metadata": {
    "gradient": {
     "execution_count": 52,
     "id": "909e776b",
     "kernelId": "cbf3c3c5-e3da-4b9b-b666-9f8d8eddbd04"
    }
   },
   "outputs": [],
   "source": [
    "def testLoss(model):\n",
    "    criterion = FocalLoss(weight=torch.tensor([1-72470/87553, 1-2223/87553, 1-5788/87553, 1-641/87553, 1-6431/87553]).to(device))\n",
    "    with torch.no_grad():\n",
    "        loss = 0\n",
    "        for i, data in enumerate(test_dataloader, 0):\n",
    "            inputs, labels = data\n",
    "            inputs = inputs.to(device)\n",
    "            labels = labels.to(device)\n",
    "\n",
    "            # get predictions\n",
    "            outputs = model(inputs)\n",
    "            loss += criterion(outputs, labels).item()\n",
    "        return loss"
   ]
  },
  {
   "cell_type": "code",
   "execution_count": 20,
   "id": "209f90aa",
   "metadata": {
    "gradient": {
     "editing": false,
     "execution_count": 53,
     "id": "3ac79b00",
     "kernelId": "cbf3c3c5-e3da-4b9b-b666-9f8d8eddbd04"
    }
   },
   "outputs": [],
   "source": [
    "def train(model, epochs):\n",
    "    criterion = FocalLoss(weight=torch.tensor([1-72470/87553, 1-2223/87553, 1-5788/87553, 1-641/87553, 1-6431/87553]).to(device))\n",
    "    optimizer = optim.Adam(model.parameters(), lr=0.001, betas=(0.9, 0.999), eps=1e-08, weight_decay=0, amsgrad=False)\n",
    "    scheduler = optim.lr_scheduler.ReduceLROnPlateau(optimizer, mode='min', factor=0.5, patience=5)\n",
    "\n",
    "    print(f\"Training {epochs} epochs. Dataset is {len(train_dataloader)} big. Using batch size 32\")\n",
    "    print(f\"{len(train_dataloader) // 32 + 1} minibatches are needed per epoch\")\n",
    "    \n",
    "    train_losses = []\n",
    "    test_losses = []\n",
    "    min_test_loss = (0, 9999999999999)\n",
    "    for epoch in range(epochs):\n",
    "\n",
    "        running_loss = 0.0\n",
    "        for i, data in enumerate(train_dataloader, 0):\n",
    "            inputs, labels = data\n",
    "            inputs = inputs.to(device)\n",
    "            labels = labels.to(device)\n",
    "\n",
    "            # zero the parameter gradients\n",
    "            optimizer.zero_grad()\n",
    "\n",
    "            # forward + backward + optimize\n",
    "            outputs = model(inputs)\n",
    "            loss = criterion(outputs, labels)\n",
    "            loss.backward()\n",
    "            optimizer.step()\n",
    "\n",
    "            running_loss += loss.item()\n",
    "            if i % 1000 == 0:\n",
    "                print(f\"Minibatch {i+1}. Loss {loss.item()}\")\n",
    "\n",
    "        # print statistics\n",
    "        print(f\"Epoch {epoch}/{epochs}. Loss {running_loss}\")\n",
    "        test_loss = testLoss(model)\n",
    "        print(f\"Test loss {test_loss}\")\n",
    "        \n",
    "        # Increment scheduler\n",
    "        scheduler.step(test_loss)\n",
    "        \n",
    "        # Save statistics\n",
    "        train_losses.append(running_loss)\n",
    "        test_losses.append(test_loss)\n",
    "        \n",
    "        # Save model if loss low\n",
    "        if test_loss < min_test_loss[1]:\n",
    "            min_test_loss = (epoch, test_loss)\n",
    "            torch.save(model.state_dict(), 'model.pth')\n",
    "    \n",
    "    return train_losses, test_losses"
   ]
  },
  {
   "cell_type": "code",
   "execution_count": 21,
   "id": "278ec3d3",
   "metadata": {
    "gradient": {
     "editing": false,
     "execution_count": 54,
     "id": "09cf32b0",
     "kernelId": "cbf3c3c5-e3da-4b9b-b666-9f8d8eddbd04"
    }
   },
   "outputs": [],
   "source": [
    "# Define model\n",
    "model = HADLN().to(device)"
   ]
  },
  {
   "cell_type": "code",
   "execution_count": 22,
   "id": "c7913c69",
   "metadata": {
    "gradient": {
     "editing": false,
     "execution_count": 55,
     "id": "73deb129",
     "kernelId": "cbf3c3c5-e3da-4b9b-b666-9f8d8eddbd04"
    }
   },
   "outputs": [],
   "source": [
    "# Load model\n",
    "# model.load_state_dict(torch.load(\"model.pth\", map_location=device))"
   ]
  },
  {
   "cell_type": "code",
   "execution_count": 23,
   "id": "33be0d93",
   "metadata": {
    "gradient": {
     "editing": false,
     "execution_count": 56,
     "id": "f82d5cba",
     "kernelId": "cbf3c3c5-e3da-4b9b-b666-9f8d8eddbd04"
    }
   },
   "outputs": [
    {
     "name": "stdout",
     "output_type": "stream",
     "text": [
      "Training 25 epochs. Dataset is 2736 big. Using batch size 32\n",
      "86 minibatches are needed per epoch\n",
      "Minibatch 1. Loss 0.04107845202088356\n"
     ]
    },
    {
     "ename": "KeyboardInterrupt",
     "evalue": "",
     "output_type": "error",
     "traceback": [
      "\u001b[0;31m---------------------------------------------------------------------------\u001b[0m",
      "\u001b[0;31mKeyboardInterrupt\u001b[0m                         Traceback (most recent call last)",
      "\u001b[0;32m/var/folders/sx/p4c5wz5x3x9f3_yw49w1qb5m0000gn/T/ipykernel_38829/4069885186.py\u001b[0m in \u001b[0;36m<module>\u001b[0;34m\u001b[0m\n\u001b[1;32m      1\u001b[0m \u001b[0;31m# Train\u001b[0m\u001b[0;34m\u001b[0m\u001b[0;34m\u001b[0m\u001b[0m\n\u001b[0;32m----> 2\u001b[0;31m \u001b[0mtrain_losses\u001b[0m\u001b[0;34m,\u001b[0m \u001b[0mtest_losses\u001b[0m \u001b[0;34m=\u001b[0m \u001b[0mtrain\u001b[0m\u001b[0;34m(\u001b[0m\u001b[0mmodel\u001b[0m\u001b[0;34m,\u001b[0m \u001b[0;36m25\u001b[0m\u001b[0;34m)\u001b[0m\u001b[0;34m\u001b[0m\u001b[0;34m\u001b[0m\u001b[0m\n\u001b[0m",
      "\u001b[0;32m/var/folders/sx/p4c5wz5x3x9f3_yw49w1qb5m0000gn/T/ipykernel_38829/951401550.py\u001b[0m in \u001b[0;36mtrain\u001b[0;34m(model, epochs)\u001b[0m\n\u001b[1;32m     19\u001b[0m \u001b[0;34m\u001b[0m\u001b[0m\n\u001b[1;32m     20\u001b[0m             \u001b[0;31m# zero the parameter gradients\u001b[0m\u001b[0;34m\u001b[0m\u001b[0;34m\u001b[0m\u001b[0m\n\u001b[0;32m---> 21\u001b[0;31m             \u001b[0moptimizer\u001b[0m\u001b[0;34m.\u001b[0m\u001b[0mzero_grad\u001b[0m\u001b[0;34m(\u001b[0m\u001b[0;34m)\u001b[0m\u001b[0;34m\u001b[0m\u001b[0;34m\u001b[0m\u001b[0m\n\u001b[0m\u001b[1;32m     22\u001b[0m \u001b[0;34m\u001b[0m\u001b[0m\n\u001b[1;32m     23\u001b[0m             \u001b[0;31m# forward + backward + optimize\u001b[0m\u001b[0;34m\u001b[0m\u001b[0;34m\u001b[0m\u001b[0m\n",
      "\u001b[0;32m/usr/local/lib/python3.9/site-packages/torch/optim/optimizer.py\u001b[0m in \u001b[0;36mzero_grad\u001b[0;34m(self, set_to_none)\u001b[0m\n\u001b[1;32m    215\u001b[0m                             \u001b[0;32melse\u001b[0m\u001b[0;34m:\u001b[0m\u001b[0;34m\u001b[0m\u001b[0;34m\u001b[0m\u001b[0m\n\u001b[1;32m    216\u001b[0m                                 \u001b[0mp\u001b[0m\u001b[0;34m.\u001b[0m\u001b[0mgrad\u001b[0m\u001b[0;34m.\u001b[0m\u001b[0mrequires_grad_\u001b[0m\u001b[0;34m(\u001b[0m\u001b[0;32mFalse\u001b[0m\u001b[0;34m)\u001b[0m\u001b[0;34m\u001b[0m\u001b[0;34m\u001b[0m\u001b[0m\n\u001b[0;32m--> 217\u001b[0;31m                             \u001b[0mp\u001b[0m\u001b[0;34m.\u001b[0m\u001b[0mgrad\u001b[0m\u001b[0;34m.\u001b[0m\u001b[0mzero_\u001b[0m\u001b[0;34m(\u001b[0m\u001b[0;34m)\u001b[0m\u001b[0;34m\u001b[0m\u001b[0;34m\u001b[0m\u001b[0m\n\u001b[0m\u001b[1;32m    218\u001b[0m \u001b[0;34m\u001b[0m\u001b[0m\n\u001b[1;32m    219\u001b[0m     \u001b[0;32mdef\u001b[0m \u001b[0mstep\u001b[0m\u001b[0;34m(\u001b[0m\u001b[0mself\u001b[0m\u001b[0;34m,\u001b[0m \u001b[0mclosure\u001b[0m\u001b[0;34m)\u001b[0m\u001b[0;34m:\u001b[0m\u001b[0;34m\u001b[0m\u001b[0;34m\u001b[0m\u001b[0m\n",
      "\u001b[0;31mKeyboardInterrupt\u001b[0m: "
     ]
    }
   ],
   "source": [
    "# Train\n",
    "train_losses, test_losses = train(model, 25)"
   ]
  },
  {
   "cell_type": "code",
   "execution_count": null,
   "id": "59ff00c8",
   "metadata": {
    "gradient": {
     "editing": false,
     "execution_count": 24,
     "id": "34bf0d9a",
     "kernelId": "cbf3c3c5-e3da-4b9b-b666-9f8d8eddbd04"
    }
   },
   "outputs": [],
   "source": [
    "# Print loss graph\n",
    "plt.plot(test_losses, label=\"Validation\")\n",
    "plt.plot(train_losses, label=\"Training\")\n",
    "plt.xlabel('Epoch')\n",
    "plt.ylabel('Normalized Loss')\n",
    "plt.legend()\n",
    "plt.show()"
   ]
  },
  {
   "cell_type": "code",
   "execution_count": null,
   "id": "34fd0b2b",
   "metadata": {
    "gradient": {
     "editing": false,
     "execution_count": 58,
     "id": "74ac26a3",
     "kernelId": "cbf3c3c5-e3da-4b9b-b666-9f8d8eddbd04"
    }
   },
   "outputs": [],
   "source": [
    "# Find number of misclassified validation examples\n",
    "import numpy as np\n",
    "with torch.no_grad():\n",
    "    # Precision, accuracy, recall, f1\n",
    "    precisions = []\n",
    "    recalls = []\n",
    "    f1 = []\n",
    "    \n",
    "    # Per class accuracy\n",
    "    correct_by_class = [0,0,0,0,0]\n",
    "    total_by_class = [0,0,0,0,0]\n",
    "    for i, data in enumerate(test_dataloader, 0):\n",
    "        inputs, labels = data\n",
    "        inputs = inputs.to(device)\n",
    "        labels = labels.to(device)\n",
    "\n",
    "        # get predictions\n",
    "        outputs = model(inputs)\n",
    "        outputs[outputs < 0.5] = 0\n",
    "        outputs[outputs >= 0.5] = 1\n",
    "        \n",
    "        # Find total by class\n",
    "        total_by_class[0] += torch.where((labels[:, 0] == 1))[0].shape[0]\n",
    "        total_by_class[1] += torch.where((labels[:, 1] == 1))[0].shape[0]\n",
    "        total_by_class[2] += torch.where((labels[:, 2] == 1))[0].shape[0]\n",
    "        total_by_class[3] += torch.where((labels[:, 3] == 1))[0].shape[0]\n",
    "        total_by_class[4] += torch.where((labels[:, 4] == 1))[0].shape[0]\n",
    "        \n",
    "        # Find correct by class\n",
    "        correct_by_class[0] += torch.where((labels[:, 0] == outputs[:, 0]) & (labels[:, 0] == 1) )[0].shape[0]\n",
    "        correct_by_class[1] += torch.where((labels[:, 1] == outputs[:, 1]) & (labels[:, 1] == 1) )[0].shape[0]\n",
    "        correct_by_class[2] += torch.where((labels[:, 2] == outputs[:, 2]) & (labels[:, 2] == 1) )[0].shape[0]\n",
    "        correct_by_class[3] += torch.where((labels[:, 3] == outputs[:, 3]) & (labels[:, 3] == 1) )[0].shape[0]\n",
    "        correct_by_class[4] += torch.where((labels[:, 4] == outputs[:, 4]) & (labels[:, 4] == 1) )[0].shape[0]\n",
    "        \n",
    "        # F1\n",
    "        f1.append(f1_score(labels.cpu(), outputs.cpu(), average='weighted', zero_division=0))\n",
    "        \n",
    "        # Precision\n",
    "        precisions.append(precision_score(labels.cpu(), outputs.cpu(), average='weighted', zero_division=0))\n",
    "        \n",
    "        # Recall\n",
    "        recalls.append(recall_score(labels.cpu(), outputs.cpu(), average='weighted', zero_division=0))\n",
    "        \n",
    "# Print accuracy\n",
    "print(f'Total correct: {sum(correct_by_class)} / {sum(total_by_class)}. {sum(correct_by_class) / sum(total_by_class) * 100}%')\n",
    "print(f'{correct_by_class}')\n",
    "print(f'{np.array(correct_by_class) / np.array(total_by_class) * 100}')\n",
    "print('------')\n",
    "\n",
    "# Print precision, recall, and f1\n",
    "print(f'Weighted Precision: {sum(precisions)/len(precisions)*100}%')\n",
    "print(f'Weighted Recall: {sum(recalls)/len(recalls)*100}%')\n",
    "print(f'Weighted F1: {sum(f1)/len(f1)*100}%')\n"
   ]
  },
  {
   "cell_type": "code",
   "execution_count": null,
   "id": "5e5dae8e",
   "metadata": {
    "gradient": {
     "id": "3ea24007",
     "kernelId": "cbf3c3c5-e3da-4b9b-b666-9f8d8eddbd04"
    }
   },
   "outputs": [],
   "source": []
  }
 ],
 "metadata": {
  "kernelspec": {
   "display_name": "Python 3 (ipykernel)",
   "language": "python",
   "name": "python3"
  },
  "language_info": {
   "codemirror_mode": {
    "name": "ipython",
    "version": 3
   },
   "file_extension": ".py",
   "mimetype": "text/x-python",
   "name": "python",
   "nbconvert_exporter": "python",
   "pygments_lexer": "ipython3",
   "version": "3.9.9"
  }
 },
 "nbformat": 4,
 "nbformat_minor": 5
}
